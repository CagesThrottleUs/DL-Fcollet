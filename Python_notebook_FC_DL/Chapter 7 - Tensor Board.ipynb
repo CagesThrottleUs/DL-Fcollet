{
 "cells": [
  {
   "cell_type": "code",
   "execution_count": 1,
   "metadata": {},
   "outputs": [
    {
     "name": "stderr",
     "output_type": "stream",
     "text": [
      "Using TensorFlow backend.\n",
      "C:\\Python\\anacoda3\\lib\\site-packages\\tensorflow\\python\\framework\\dtypes.py:523: FutureWarning: Passing (type, 1) or '1type' as a synonym of type is deprecated; in a future version of numpy, it will be understood as (type, (1,)) / '(1,)type'.\n",
      "  _np_qint8 = np.dtype([(\"qint8\", np.int8, 1)])\n",
      "C:\\Python\\anacoda3\\lib\\site-packages\\tensorflow\\python\\framework\\dtypes.py:524: FutureWarning: Passing (type, 1) or '1type' as a synonym of type is deprecated; in a future version of numpy, it will be understood as (type, (1,)) / '(1,)type'.\n",
      "  _np_quint8 = np.dtype([(\"quint8\", np.uint8, 1)])\n",
      "C:\\Python\\anacoda3\\lib\\site-packages\\tensorflow\\python\\framework\\dtypes.py:525: FutureWarning: Passing (type, 1) or '1type' as a synonym of type is deprecated; in a future version of numpy, it will be understood as (type, (1,)) / '(1,)type'.\n",
      "  _np_qint16 = np.dtype([(\"qint16\", np.int16, 1)])\n",
      "C:\\Python\\anacoda3\\lib\\site-packages\\tensorflow\\python\\framework\\dtypes.py:526: FutureWarning: Passing (type, 1) or '1type' as a synonym of type is deprecated; in a future version of numpy, it will be understood as (type, (1,)) / '(1,)type'.\n",
      "  _np_quint16 = np.dtype([(\"quint16\", np.uint16, 1)])\n",
      "C:\\Python\\anacoda3\\lib\\site-packages\\tensorflow\\python\\framework\\dtypes.py:527: FutureWarning: Passing (type, 1) or '1type' as a synonym of type is deprecated; in a future version of numpy, it will be understood as (type, (1,)) / '(1,)type'.\n",
      "  _np_qint32 = np.dtype([(\"qint32\", np.int32, 1)])\n",
      "C:\\Python\\anacoda3\\lib\\site-packages\\tensorflow\\python\\framework\\dtypes.py:532: FutureWarning: Passing (type, 1) or '1type' as a synonym of type is deprecated; in a future version of numpy, it will be understood as (type, (1,)) / '(1,)type'.\n",
      "  np_resource = np.dtype([(\"resource\", np.ubyte, 1)])\n"
     ]
    },
    {
     "name": "stdout",
     "output_type": "stream",
     "text": [
      "Model: \"sequential_1\"\n",
      "_________________________________________________________________\n",
      "Layer (type)                 Output Shape              Param #   \n",
      "=================================================================\n",
      "embed (Embedding)            (None, 500, 128)          256000    \n",
      "_________________________________________________________________\n",
      "conv1d_1 (Conv1D)            (None, 494, 32)           28704     \n",
      "_________________________________________________________________\n",
      "max_pooling1d_1 (MaxPooling1 (None, 98, 32)            0         \n",
      "_________________________________________________________________\n",
      "conv1d_2 (Conv1D)            (None, 92, 32)            7200      \n",
      "_________________________________________________________________\n",
      "global_max_pooling1d_1 (Glob (None, 32)                0         \n",
      "_________________________________________________________________\n",
      "dense_1 (Dense)              (None, 1)                 33        \n",
      "=================================================================\n",
      "Total params: 291,937\n",
      "Trainable params: 291,937\n",
      "Non-trainable params: 0\n",
      "_________________________________________________________________\n"
     ]
    }
   ],
   "source": [
    "import keras\n",
    "from keras import layers\n",
    "from keras.datasets import imdb\n",
    "from keras.preprocessing import sequence\n",
    "\n",
    "max_features = 2000\n",
    "max_len = 500\n",
    "\n",
    "(x_train, y_train), (x_test, y_test) = imdb.load_data(num_words=max_features)\n",
    "\n",
    "x_train = sequence.pad_sequences(x_train, maxlen=max_len)\n",
    "x_test = sequence.pad_sequences(x_test, maxlen=max_len)\n",
    "\n",
    "model = keras.models.Sequential()\n",
    "model.add(layers.Embedding(max_features, 128,input_length=max_len,name='embed'))\n",
    "model.add(layers.Conv1D(32, 7, activation='relu'))\n",
    "model.add(layers.MaxPooling1D(5))\n",
    "model.add(layers.Conv1D(32, 7, activation='relu'))\n",
    "model.add(layers.GlobalMaxPooling1D())\n",
    "model.add(layers.Dense(1))\n",
    "\n",
    "model.summary()\n",
    "model.compile(optimizer='rmsprop',loss='binary_crossentropy',metrics=['acc'])"
   ]
  },
  {
   "cell_type": "code",
   "execution_count": 2,
   "metadata": {
    "scrolled": false
   },
   "outputs": [
    {
     "name": "stderr",
     "output_type": "stream",
     "text": [
      "C:\\Python\\anacoda3\\lib\\site-packages\\keras\\callbacks\\tensorboard_v2.py:102: UserWarning: The TensorBoard callback does not support embeddings display when using TensorFlow 2.0. Embeddings-related arguments are ignored.\n",
      "  warnings.warn('The TensorBoard callback does not support '\n",
      "C:\\Python\\anacoda3\\lib\\site-packages\\tensorflow\\python\\ops\\gradients_util.py:93: UserWarning: Converting sparse IndexedSlices to a dense Tensor of unknown shape. This may consume a large amount of memory.\n",
      "  \"Converting sparse IndexedSlices to a dense Tensor of unknown shape. \"\n"
     ]
    },
    {
     "name": "stdout",
     "output_type": "stream",
     "text": [
      "Train on 20000 samples, validate on 5000 samples\n",
      "Epoch 1/20\n",
      "20000/20000 [==============================] - 21s 1ms/step - loss: 0.6607 - acc: 0.6330 - val_loss: 0.4618 - val_acc: 0.8076\n",
      "Epoch 2/20\n",
      "20000/20000 [==============================] - 21s 1ms/step - loss: 0.4466 - acc: 0.8191 - val_loss: 0.4227 - val_acc: 0.8272\n",
      "Epoch 3/20\n",
      "20000/20000 [==============================] - 21s 1ms/step - loss: 0.3836 - acc: 0.8025 - val_loss: 0.5401 - val_acc: 0.7600\n",
      "Epoch 4/20\n",
      "20000/20000 [==============================] - 21s 1ms/step - loss: 0.3529 - acc: 0.7473 - val_loss: 0.5184 - val_acc: 0.7184\n",
      "Epoch 5/20\n",
      "20000/20000 [==============================] - 21s 1ms/step - loss: 0.3050 - acc: 0.7099 - val_loss: 0.5367 - val_acc: 0.6814\n",
      "Epoch 6/20\n",
      "20000/20000 [==============================] - 21s 1ms/step - loss: 0.2570 - acc: 0.6715 - val_loss: 1.1398 - val_acc: 0.4950\n",
      "Epoch 7/20\n",
      "20000/20000 [==============================] - 21s 1ms/step - loss: 0.2273 - acc: 0.6155 - val_loss: 0.7425 - val_acc: 0.5098\n",
      "Epoch 8/20\n",
      "20000/20000 [==============================] - 21s 1ms/step - loss: 0.1938 - acc: 0.5307 - val_loss: 0.8904 - val_acc: 0.4614\n",
      "Epoch 9/20\n",
      "20000/20000 [==============================] - 21s 1ms/step - loss: 0.1499 - acc: 0.5241 - val_loss: 0.8018 - val_acc: 0.4514\n",
      "Epoch 10/20\n",
      "20000/20000 [==============================] - 21s 1ms/step - loss: 0.1366 - acc: 0.4664 - val_loss: 0.9338 - val_acc: 0.4112\n",
      "Epoch 11/20\n",
      "20000/20000 [==============================] - 22s 1ms/step - loss: 0.1250 - acc: 0.3803 - val_loss: 1.0080 - val_acc: 0.3374\n",
      "Epoch 12/20\n",
      "20000/20000 [==============================] - 21s 1ms/step - loss: 0.1156 - acc: 0.3272 - val_loss: 1.0161 - val_acc: 0.3176\n",
      "Epoch 13/20\n",
      "20000/20000 [==============================] - 21s 1ms/step - loss: 0.1133 - acc: 0.2819 - val_loss: 1.0449 - val_acc: 0.2942\n",
      "Epoch 14/20\n",
      "20000/20000 [==============================] - 22s 1ms/step - loss: 0.1102 - acc: 0.2437 - val_loss: 1.0473 - val_acc: 0.2790\n",
      "Epoch 15/20\n",
      "20000/20000 [==============================] - 22s 1ms/step - loss: 0.1129 - acc: 0.2155 - val_loss: 1.1237 - val_acc: 0.2588\n",
      "Epoch 16/20\n",
      "20000/20000 [==============================] - 23s 1ms/step - loss: 0.1052 - acc: 0.1904 - val_loss: 1.1686 - val_acc: 0.2428\n",
      "Epoch 17/20\n",
      "20000/20000 [==============================] - 23s 1ms/step - loss: 0.1068 - acc: 0.1737 - val_loss: 1.1546 - val_acc: 0.2394\n",
      "Epoch 18/20\n",
      "20000/20000 [==============================] - 22s 1ms/step - loss: 0.1042 - acc: 0.1607 - val_loss: 1.1488 - val_acc: 0.2468\n",
      "Epoch 19/20\n",
      "20000/20000 [==============================] - 22s 1ms/step - loss: 0.1046 - acc: 0.1509 - val_loss: 1.1957 - val_acc: 0.2202\n",
      "Epoch 20/20\n",
      "20000/20000 [==============================] - 22s 1ms/step - loss: 0.1014 - acc: 0.1316 - val_loss: 1.1947 - val_acc: 0.2210\n"
     ]
    },
    {
     "name": "stderr",
     "output_type": "stream",
     "text": [
      "UsageError: Line magic function `%tensorboard` not found.\n"
     ]
    }
   ],
   "source": [
    "callbacks = [\n",
    "    keras.callbacks.TensorBoard(\n",
    "        log_dir='Logs',\n",
    "        histogram_freq=1,\n",
    "        embeddings_freq=1,)\n",
    "]\n",
    "\n",
    "history = model.fit(x_train, y_train,epochs=20,batch_size=128,validation_split=0.2,callbacks=callbacks)\n",
    "\n",
    "%tensorboard"
   ]
  },
  {
   "cell_type": "code",
   "execution_count": 3,
   "metadata": {},
   "outputs": [
    {
     "name": "stderr",
     "output_type": "stream",
     "text": [
      "UsageError: Line magic function `%tensorboard` not found.\n"
     ]
    }
   ],
   "source": [
    "%tensorboard --logdir logs"
   ]
  },
  {
   "cell_type": "code",
   "execution_count": 4,
   "metadata": {},
   "outputs": [],
   "source": [
    "%load_ext tensorboard"
   ]
  },
  {
   "cell_type": "code",
   "execution_count": 5,
   "metadata": {},
   "outputs": [
    {
     "data": {
      "text/plain": [
       "Reusing TensorBoard on port 6006 (pid 18872), started 0:18:25 ago. (Use '!kill 18872' to kill it.)"
      ]
     },
     "metadata": {},
     "output_type": "display_data"
    },
    {
     "data": {
      "text/html": [
       "\n",
       "      <iframe id=\"tensorboard-frame-dfc29f8dd0893b66\" width=\"100%\" height=\"800\" frameborder=\"0\">\n",
       "      </iframe>\n",
       "      <script>\n",
       "        (function() {\n",
       "          const frame = document.getElementById(\"tensorboard-frame-dfc29f8dd0893b66\");\n",
       "          const url = new URL(\"/\", window.location);\n",
       "          url.port = 6006;\n",
       "          frame.src = url;\n",
       "        })();\n",
       "      </script>\n",
       "  "
      ],
      "text/plain": [
       "<IPython.core.display.HTML object>"
      ]
     },
     "metadata": {},
     "output_type": "display_data"
    }
   ],
   "source": [
    "%tensorboard --logdir logs"
   ]
  },
  {
   "cell_type": "code",
   "execution_count": null,
   "metadata": {},
   "outputs": [],
   "source": []
  }
 ],
 "metadata": {
  "kernelspec": {
   "display_name": "Python 3",
   "language": "python",
   "name": "python3"
  },
  "language_info": {
   "codemirror_mode": {
    "name": "ipython",
    "version": 3
   },
   "file_extension": ".py",
   "mimetype": "text/x-python",
   "name": "python",
   "nbconvert_exporter": "python",
   "pygments_lexer": "ipython3",
   "version": "3.7.6"
  }
 },
 "nbformat": 4,
 "nbformat_minor": 4
}
