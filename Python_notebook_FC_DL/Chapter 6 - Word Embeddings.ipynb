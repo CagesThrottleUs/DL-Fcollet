{
 "cells": [
  {
   "cell_type": "code",
   "execution_count": null,
   "metadata": {},
   "outputs": [],
   "source": []
  },
  {
   "cell_type": "code",
   "execution_count": null,
   "metadata": {},
   "outputs": [],
   "source": []
  },
  {
   "cell_type": "code",
   "execution_count": 4,
   "metadata": {},
   "outputs": [],
   "source": [
    "### Training an embedding layer from scratch\n",
    "\n",
    "from keras.datasets import imdb\n",
    "from keras import preprocessing\n",
    "\n",
    "max_features = 10000\n",
    "max_len = 20\n",
    "\n",
    "(x_train, y_train), (x_test, y_test) = imdb.load_data(num_words = max_features)\n",
    "\n",
    "## To ensure that the input shape is verified\n",
    "\n",
    "x_train = preprocessing.sequence.pad_sequences(x_train, maxlen=max_len)\n",
    "x_test = preprocessing.sequence.pad_sequences(x_test, maxlen=max_len)"
   ]
  },
  {
   "cell_type": "code",
   "execution_count": 6,
   "metadata": {},
   "outputs": [
    {
     "name": "stdout",
     "output_type": "stream",
     "text": [
      "Model: \"sequential_2\"\n",
      "_________________________________________________________________\n",
      "Layer (type)                 Output Shape              Param #   \n",
      "=================================================================\n",
      "embedding_3 (Embedding)      (None, 20, 8)             80000     \n",
      "_________________________________________________________________\n",
      "flatten_1 (Flatten)          (None, 160)               0         \n",
      "_________________________________________________________________\n",
      "dense_1 (Dense)              (None, 1)                 161       \n",
      "=================================================================\n",
      "Total params: 80,161\n",
      "Trainable params: 80,161\n",
      "Non-trainable params: 0\n",
      "_________________________________________________________________\n"
     ]
    }
   ],
   "source": [
    "from keras.models import Sequential\n",
    "from keras.layers import Flatten, Dense, Embedding\n",
    "\n",
    "model = Sequential()\n",
    "model.add(Embedding(max_features, 8, input_shape=(max_len,)))\n",
    "model.add(Flatten())\n",
    "model.add(Dense(1, activation='sigmoid'))\n",
    "\n",
    "model.compile(optimizer='rmsprop', loss='binary_crossentropy', metrics=['acc'])\n",
    "\n",
    "model.summary()\n"
   ]
  },
  {
   "cell_type": "code",
   "execution_count": 7,
   "metadata": {},
   "outputs": [
    {
     "name": "stderr",
     "output_type": "stream",
     "text": [
      "C:\\Python\\anacoda3\\lib\\site-packages\\tensorflow\\python\\ops\\gradients_util.py:93: UserWarning: Converting sparse IndexedSlices to a dense Tensor of unknown shape. This may consume a large amount of memory.\n",
      "  \"Converting sparse IndexedSlices to a dense Tensor of unknown shape. \"\n"
     ]
    },
    {
     "name": "stdout",
     "output_type": "stream",
     "text": [
      "Train on 20000 samples, validate on 5000 samples\n",
      "Epoch 1/10\n",
      "20000/20000 [==============================] - 1s 41us/step - loss: 0.6702 - acc: 0.6255 - val_loss: 0.6237 - val_acc: 0.6964\n",
      "Epoch 2/10\n",
      "20000/20000 [==============================] - 1s 32us/step - loss: 0.5488 - acc: 0.7505 - val_loss: 0.5311 - val_acc: 0.7272\n",
      "Epoch 3/10\n",
      "20000/20000 [==============================] - 1s 32us/step - loss: 0.4634 - acc: 0.7876 - val_loss: 0.5012 - val_acc: 0.7492\n",
      "Epoch 4/10\n",
      "20000/20000 [==============================] - 1s 35us/step - loss: 0.4194 - acc: 0.8127 - val_loss: 0.4945 - val_acc: 0.7522\n",
      "Epoch 5/10\n",
      "20000/20000 [==============================] - 1s 31us/step - loss: 0.3886 - acc: 0.8274 - val_loss: 0.4940 - val_acc: 0.7544\n",
      "Epoch 6/10\n",
      "20000/20000 [==============================] - 1s 32us/step - loss: 0.3628 - acc: 0.8421 - val_loss: 0.4981 - val_acc: 0.7502\n",
      "Epoch 7/10\n",
      "20000/20000 [==============================] - 1s 32us/step - loss: 0.3398 - acc: 0.8545 - val_loss: 0.5052 - val_acc: 0.7460\n",
      "Epoch 8/10\n",
      "20000/20000 [==============================] - 1s 32us/step - loss: 0.3192 - acc: 0.8662 - val_loss: 0.5112 - val_acc: 0.7450\n",
      "Epoch 9/10\n",
      "20000/20000 [==============================] - 1s 32us/step - loss: 0.2999 - acc: 0.8757 - val_loss: 0.5198 - val_acc: 0.7438\n",
      "Epoch 10/10\n",
      "20000/20000 [==============================] - 1s 33us/step - loss: 0.2817 - acc: 0.8848 - val_loss: 0.5295 - val_acc: 0.7424\n"
     ]
    }
   ],
   "source": [
    "history = model.fit(x_train, y_train,\n",
    "                                 epochs =10,\n",
    "                                 batch_size=32,\n",
    "                                 validation_split = 0.2)"
   ]
  },
  {
   "cell_type": "code",
   "execution_count": 8,
   "metadata": {},
   "outputs": [],
   "source": [
    "### This was actually a poor example as not much feature is learnt we have only worked on the text data\n",
    "### That;s why we need the RNN and CONV1D"
   ]
  },
  {
   "cell_type": "code",
   "execution_count": null,
   "metadata": {},
   "outputs": [],
   "source": []
  }
 ],
 "metadata": {
  "kernelspec": {
   "display_name": "Python 3",
   "language": "python",
   "name": "python3"
  },
  "language_info": {
   "codemirror_mode": {
    "name": "ipython",
    "version": 3
   },
   "file_extension": ".py",
   "mimetype": "text/x-python",
   "name": "python",
   "nbconvert_exporter": "python",
   "pygments_lexer": "ipython3",
   "version": "3.7.6"
  }
 },
 "nbformat": 4,
 "nbformat_minor": 4
}
